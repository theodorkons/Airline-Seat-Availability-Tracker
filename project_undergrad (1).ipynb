{
 "cells": [
  {
   "cell_type": "markdown",
   "metadata": {},
   "source": [
    "# Data Challenge - Πρόβλεψη Πληρότητας Πτήσεων\n",
    "\n",
    "Στα πλαίσια της εργασίας του μαθήματος \"Εξόρυξη Γνώσης από Βάσεις Δεδομένων και τον Παγκόσμιο Ιστό\", θα δουλέψετε πάνω σε ένα πρόβλημα κατηγοριοποίησης. Συγκεκριμένα, σας δίνεται ένα σύνολο δεδομένων το οποίο αποτελείται από μερικές χιλιάδες πτήσεις, όπου κάθε πτήση περιγράφεται απο ένα σύνολο μεταβλητών (αεροδρόμιο αναχώρησης, αεροδρόμιο άφιξης, κτλ). Κάθε πτήση χαρακτηρίζεται επίσης από μια μεταβλητή που σχετίζεται με τον αριθμό των επιβατών της πτήσης (π.χ. κάθε τιμή της μεταβλητής σχετίζεται με ενα εύρος πλήθους επιβατών). Για κάποιες πτήσεις, η τιμή της μεταβλητής  είναι γνωστή, ενώ για άλλες όχι. Στόχος σας είναι να προβλέψετε την τιμή της μεταβλητής για τις πτήσεις για τις οποίες δεν είναι διαθέσιμη.\n",
    "\n",
    "### Σύνολο Δεδομένων\n",
    "\n",
    "Το αρχείο με όνομα `train.csv` περιέχει τα δεδομένα εκπαίδευσης (training set) του προβλήματος, ενώ το αρχείο `test.csv` περιέχει τα δεδομένα ελέγχου (test set) του προβλήματος. Κάθε γραμμή των δυο αυτών αρχείων αντιστοιχεί σε μια πτήση η οποία χαρακτηρίζεται από τις εξής μεταβλητές:\n",
    "\n",
    "Μεταβλητή | Περιγραφή\n",
    "--- | --- \n",
    "DateOfDeparture | Ημερομηνία αναχώρησης\n",
    "Departure | Κωδικός αεροδρομίου αναχώρησης\n",
    "CityDeparture | Πόλη αναχώρησης\n",
    "LongitudeDeparture \t | Γεωγραφικό μήκος αεροδρομίου αναχώρησης\n",
    "LatitudeDeparture \t | Γεωγραφικό πλάτος αεροδρομίου αναχώρησης\n",
    "Arrival | Κωδικός αεροδρομίου άφιξης\n",
    "CityArrival | Πόλη άφιξης\n",
    "LongitudeArrival | Γεωγραφικό μήκος αεροδρομίου άφιξης\n",
    "LatitudeArrival | Γεωγραφικό πλάτος αεροδρομίου άφιξης\n",
    "WeeksToDeparture | Πόσες εβδομάδες πριν την αναχώρηση της πτήσης κατά μέσο όρο έκλεισαν οι επιβάτες τα εισητήριά τους\n",
    "std_wtd | Τυπική απόκλιση για το παραπάνω \n",
    "Το training set περιέχει μια επιπλέον μεταβλητή (`PAX`) η οποία έχει σχέση με τον αριθμό των επιβατών της πτήσης. Η μεταβλητή αυτή παίρνει 8 διαφορετικές τιμές (τιμές από 0 έως 7 οπότε 8 κατηγορίες συνολικά). Κάθε κατηγορία υποδηλώνει πόσοι περίπου επιβάτες χρησιμοποίησαν την πτήση. Οι αριθμοί στις κατηγορίες έχουν ανατεθεί με τυχαίο τρόπο, οπότε μην θεωρήσετε ότι η κατηγορία 0 υποδηλώνει πολύ λίγους επιβάτες ενώ η κατηγορία 7 πάρα πολλούς επιβάτες. Η μεταβλητή `PAX` λείπει από το test set καθώς πρόκειται για την μεταβλητή που πρέπει να προβλέψετε στα πλαίσια της παρούσας εργασίας.\n",
    "\n",
    "Παρακάτω σας δίνεται κώδικας ο οποίος φορτώνει τα δεδομένα εκπαίδευσης σε ένα DataFrame της βιβλιοθήκης Pandas και τυπώνει τις πρώτες 5 γραμμές. Οπότε μπορείτε να δείτε τις 12 μεταβλητές του προβλήματος."
   ]
  },
  {
   "cell_type": "code",
   "execution_count": 1,
   "metadata": {},
   "outputs": [
    {
     "data": {
      "text/html": [
       "<div>\n",
       "<style scoped>\n",
       "    .dataframe tbody tr th:only-of-type {\n",
       "        vertical-align: middle;\n",
       "    }\n",
       "\n",
       "    .dataframe tbody tr th {\n",
       "        vertical-align: top;\n",
       "    }\n",
       "\n",
       "    .dataframe thead th {\n",
       "        text-align: right;\n",
       "    }\n",
       "</style>\n",
       "<table border=\"1\" class=\"dataframe\">\n",
       "  <thead>\n",
       "    <tr style=\"text-align: right;\">\n",
       "      <th></th>\n",
       "      <th>DateOfDeparture</th>\n",
       "      <th>Departure</th>\n",
       "      <th>CityDeparture</th>\n",
       "      <th>LongitudeDeparture</th>\n",
       "      <th>LatitudeDeparture</th>\n",
       "      <th>Arrival</th>\n",
       "      <th>CityArrival</th>\n",
       "      <th>LongitudeArrival</th>\n",
       "      <th>LatitudeArrival</th>\n",
       "      <th>WeeksToDeparture</th>\n",
       "      <th>std_wtd</th>\n",
       "      <th>PAX</th>\n",
       "    </tr>\n",
       "  </thead>\n",
       "  <tbody>\n",
       "    <tr>\n",
       "      <th>0</th>\n",
       "      <td>2011-12-05</td>\n",
       "      <td>ORD</td>\n",
       "      <td>Chicago</td>\n",
       "      <td>41.978603</td>\n",
       "      <td>-87.904842</td>\n",
       "      <td>EWR</td>\n",
       "      <td>Newark</td>\n",
       "      <td>40.692500</td>\n",
       "      <td>-74.168667</td>\n",
       "      <td>8.352941</td>\n",
       "      <td>5.667243</td>\n",
       "      <td>7</td>\n",
       "    </tr>\n",
       "    <tr>\n",
       "      <th>1</th>\n",
       "      <td>2013-03-01</td>\n",
       "      <td>ATL</td>\n",
       "      <td>Atlanta</td>\n",
       "      <td>33.636719</td>\n",
       "      <td>-84.428067</td>\n",
       "      <td>LGA</td>\n",
       "      <td>New York</td>\n",
       "      <td>40.777245</td>\n",
       "      <td>-73.872608</td>\n",
       "      <td>10.421053</td>\n",
       "      <td>10.001754</td>\n",
       "      <td>7</td>\n",
       "    </tr>\n",
       "    <tr>\n",
       "      <th>2</th>\n",
       "      <td>2012-02-06</td>\n",
       "      <td>ORD</td>\n",
       "      <td>Chicago</td>\n",
       "      <td>41.978603</td>\n",
       "      <td>-87.904842</td>\n",
       "      <td>BOS</td>\n",
       "      <td>Boston</td>\n",
       "      <td>42.364347</td>\n",
       "      <td>-71.005181</td>\n",
       "      <td>9.250000</td>\n",
       "      <td>7.136821</td>\n",
       "      <td>7</td>\n",
       "    </tr>\n",
       "    <tr>\n",
       "      <th>3</th>\n",
       "      <td>2012-12-10</td>\n",
       "      <td>ORD</td>\n",
       "      <td>Chicago</td>\n",
       "      <td>41.978603</td>\n",
       "      <td>-87.904842</td>\n",
       "      <td>SFO</td>\n",
       "      <td>San Francisco</td>\n",
       "      <td>37.618972</td>\n",
       "      <td>-122.374889</td>\n",
       "      <td>8.666667</td>\n",
       "      <td>7.404291</td>\n",
       "      <td>7</td>\n",
       "    </tr>\n",
       "    <tr>\n",
       "      <th>4</th>\n",
       "      <td>2012-04-13</td>\n",
       "      <td>SFO</td>\n",
       "      <td>San Francisco</td>\n",
       "      <td>37.618972</td>\n",
       "      <td>-122.374889</td>\n",
       "      <td>JFK</td>\n",
       "      <td>New York</td>\n",
       "      <td>40.639751</td>\n",
       "      <td>-73.778925</td>\n",
       "      <td>14.037037</td>\n",
       "      <td>9.858544</td>\n",
       "      <td>7</td>\n",
       "    </tr>\n",
       "  </tbody>\n",
       "</table>\n",
       "</div>"
      ],
      "text/plain": [
       "  DateOfDeparture Departure  CityDeparture  LongitudeDeparture  \\\n",
       "0      2011-12-05       ORD        Chicago           41.978603   \n",
       "1      2013-03-01       ATL        Atlanta           33.636719   \n",
       "2      2012-02-06       ORD        Chicago           41.978603   \n",
       "3      2012-12-10       ORD        Chicago           41.978603   \n",
       "4      2012-04-13       SFO  San Francisco           37.618972   \n",
       "\n",
       "   LatitudeDeparture Arrival    CityArrival  LongitudeArrival  \\\n",
       "0         -87.904842     EWR         Newark         40.692500   \n",
       "1         -84.428067     LGA       New York         40.777245   \n",
       "2         -87.904842     BOS         Boston         42.364347   \n",
       "3         -87.904842     SFO  San Francisco         37.618972   \n",
       "4        -122.374889     JFK       New York         40.639751   \n",
       "\n",
       "   LatitudeArrival  WeeksToDeparture    std_wtd  PAX  \n",
       "0       -74.168667          8.352941   5.667243    7  \n",
       "1       -73.872608         10.421053  10.001754    7  \n",
       "2       -71.005181          9.250000   7.136821    7  \n",
       "3      -122.374889          8.666667   7.404291    7  \n",
       "4       -73.778925         14.037037   9.858544    7  "
      ]
     },
     "execution_count": 1,
     "metadata": {},
     "output_type": "execute_result"
    }
   ],
   "source": [
    "import pandas as pd\n",
    "\n",
    "df_train = pd.read_csv('dataset/train.csv')\n",
    "df_train.head()"
   ]
  },
  {
   "cell_type": "markdown",
   "metadata": {},
   "source": [
    "Επίσης, όσον αφορά τις διαστάσεις του training set, όπως βλέπετε παρακάτω, αποτελείται από 8899 γραμμές και 12 στήλες."
   ]
  },
  {
   "cell_type": "code",
   "execution_count": 2,
   "metadata": {},
   "outputs": [
    {
     "data": {
      "text/plain": [
       "(8899, 12)"
      ]
     },
     "execution_count": 2,
     "metadata": {},
     "output_type": "execute_result"
    }
   ],
   "source": [
    "df_train.shape"
   ]
  },
  {
   "cell_type": "markdown",
   "metadata": {},
   "source": [
    "Δηλαδή έχετε διαθέσιμα τα δεδομένα απο 8899 πτήσεις για τις οποίες ξέρετε την κατηγορία του αριθμού επιβάτών `PAX`.\n",
    "\n",
    "Αντίθετα, το αρχείο με όνομα `test.csv` περιέχει το test set του προβλήματος. Όπως και στην περίπτωση του training set, σας δίνεται και τώρα κώδικας ο οποίος φορτώνει το test set σε ένα DataFrame της βιβλιοθήκης Pandas και τυπώνει τις πρώτες 5 γραμμές του."
   ]
  },
  {
   "cell_type": "code",
   "execution_count": 3,
   "metadata": {},
   "outputs": [
    {
     "data": {
      "text/html": [
       "<div>\n",
       "<style scoped>\n",
       "    .dataframe tbody tr th:only-of-type {\n",
       "        vertical-align: middle;\n",
       "    }\n",
       "\n",
       "    .dataframe tbody tr th {\n",
       "        vertical-align: top;\n",
       "    }\n",
       "\n",
       "    .dataframe thead th {\n",
       "        text-align: right;\n",
       "    }\n",
       "</style>\n",
       "<table border=\"1\" class=\"dataframe\">\n",
       "  <thead>\n",
       "    <tr style=\"text-align: right;\">\n",
       "      <th></th>\n",
       "      <th>DateOfDeparture</th>\n",
       "      <th>Departure</th>\n",
       "      <th>CityDeparture</th>\n",
       "      <th>LongitudeDeparture</th>\n",
       "      <th>LatitudeDeparture</th>\n",
       "      <th>Arrival</th>\n",
       "      <th>CityArrival</th>\n",
       "      <th>LongitudeArrival</th>\n",
       "      <th>LatitudeArrival</th>\n",
       "      <th>WeeksToDeparture</th>\n",
       "      <th>std_wtd</th>\n",
       "    </tr>\n",
       "  </thead>\n",
       "  <tbody>\n",
       "    <tr>\n",
       "      <th>0</th>\n",
       "      <td>2012-10-21</td>\n",
       "      <td>DFW</td>\n",
       "      <td>Dallas-Fort Worth</td>\n",
       "      <td>32.896828</td>\n",
       "      <td>-97.037997</td>\n",
       "      <td>SFO</td>\n",
       "      <td>San Francisco</td>\n",
       "      <td>37.618972</td>\n",
       "      <td>-122.374889</td>\n",
       "      <td>14.600000</td>\n",
       "      <td>11.575837</td>\n",
       "    </tr>\n",
       "    <tr>\n",
       "      <th>1</th>\n",
       "      <td>2012-09-13</td>\n",
       "      <td>LAX</td>\n",
       "      <td>Los Angeles</td>\n",
       "      <td>33.942536</td>\n",
       "      <td>-118.408075</td>\n",
       "      <td>ATL</td>\n",
       "      <td>Atlanta</td>\n",
       "      <td>33.636719</td>\n",
       "      <td>-84.428067</td>\n",
       "      <td>14.730769</td>\n",
       "      <td>13.364304</td>\n",
       "    </tr>\n",
       "    <tr>\n",
       "      <th>2</th>\n",
       "      <td>2012-09-04</td>\n",
       "      <td>ORD</td>\n",
       "      <td>Chicago</td>\n",
       "      <td>41.978603</td>\n",
       "      <td>-87.904842</td>\n",
       "      <td>IAH</td>\n",
       "      <td>Houston</td>\n",
       "      <td>29.984433</td>\n",
       "      <td>-95.341442</td>\n",
       "      <td>8.470588</td>\n",
       "      <td>5.885551</td>\n",
       "    </tr>\n",
       "    <tr>\n",
       "      <th>3</th>\n",
       "      <td>2012-08-13</td>\n",
       "      <td>DEN</td>\n",
       "      <td>Denver</td>\n",
       "      <td>39.861656</td>\n",
       "      <td>-104.673178</td>\n",
       "      <td>PHX</td>\n",
       "      <td>Phoenix</td>\n",
       "      <td>33.434278</td>\n",
       "      <td>-112.011583</td>\n",
       "      <td>8.200000</td>\n",
       "      <td>6.292853</td>\n",
       "    </tr>\n",
       "    <tr>\n",
       "      <th>4</th>\n",
       "      <td>2012-09-10</td>\n",
       "      <td>ORD</td>\n",
       "      <td>Chicago</td>\n",
       "      <td>41.978603</td>\n",
       "      <td>-87.904842</td>\n",
       "      <td>SEA</td>\n",
       "      <td>Seattle</td>\n",
       "      <td>47.449000</td>\n",
       "      <td>-122.309306</td>\n",
       "      <td>12.090909</td>\n",
       "      <td>9.138662</td>\n",
       "    </tr>\n",
       "  </tbody>\n",
       "</table>\n",
       "</div>"
      ],
      "text/plain": [
       "  DateOfDeparture Departure      CityDeparture  LongitudeDeparture  \\\n",
       "0      2012-10-21       DFW  Dallas-Fort Worth           32.896828   \n",
       "1      2012-09-13       LAX        Los Angeles           33.942536   \n",
       "2      2012-09-04       ORD            Chicago           41.978603   \n",
       "3      2012-08-13       DEN             Denver           39.861656   \n",
       "4      2012-09-10       ORD            Chicago           41.978603   \n",
       "\n",
       "   LatitudeDeparture Arrival    CityArrival  LongitudeArrival  \\\n",
       "0         -97.037997     SFO  San Francisco         37.618972   \n",
       "1        -118.408075     ATL        Atlanta         33.636719   \n",
       "2         -87.904842     IAH        Houston         29.984433   \n",
       "3        -104.673178     PHX        Phoenix         33.434278   \n",
       "4         -87.904842     SEA        Seattle         47.449000   \n",
       "\n",
       "   LatitudeArrival  WeeksToDeparture    std_wtd  \n",
       "0      -122.374889         14.600000  11.575837  \n",
       "1       -84.428067         14.730769  13.364304  \n",
       "2       -95.341442          8.470588   5.885551  \n",
       "3      -112.011583          8.200000   6.292853  \n",
       "4      -122.309306         12.090909   9.138662  "
      ]
     },
     "execution_count": 3,
     "metadata": {},
     "output_type": "execute_result"
    }
   ],
   "source": [
    "df_test = pd.read_csv('dataset/test.csv')\n",
    "df_test.head()"
   ]
  },
  {
   "cell_type": "markdown",
   "metadata": {},
   "source": [
    "Όσον αφορά τις διαστάσεις του test set, όπως βλέπετε παρακάτω, αποτελείται από 2229 γραμμές και 11 στήλες. Η στήλη που λείπει αφορά τη μεταβλητή `PAX` την οποία στόχος σας είναι να προβλέψετε."
   ]
  },
  {
   "cell_type": "code",
   "execution_count": 4,
   "metadata": {},
   "outputs": [
    {
     "data": {
      "text/plain": [
       "(2229, 11)"
      ]
     },
     "execution_count": 4,
     "metadata": {},
     "output_type": "execute_result"
    }
   ],
   "source": [
    "df_test.shape"
   ]
  },
  {
   "cell_type": "markdown",
   "metadata": {},
   "source": [
    "### Στόχος\n",
    "\n",
    "Όπως αναφέρθηκε και παραπάνω, στόχος σας είναι να προβλέψετε την κατηγορία αριθμού επιβατών (μεταβλητή `PAX`) για κάθε πτήση του test set. Πρόκειται για ένα supervised learning πρόβλημα. Θα πρέπει να επεξεργαστείτε τα δεδομένα του training set και στη συνέχεια, θα τα χρησιμοποιήσετε για να εκπαιδεύσετε κάποιο ταξινομητή, τον οποίο θα χρησιμοποιήσετε για να κάνετε προβλέψεις σχετικά με τα δεδομένα του test set.\n",
    "\n",
    "\n",
    "### Αξιολόγηση\n",
    "\n",
    "Η αξιολόγηση των προβλέψεων θα γίνει με βάση το `micro F1-score`. Το F1-score παίρνει τιμές μεταξύ 0 και 1. Όσο μεγαλύτερη η τιμή του F1-score, τόσο καλύτερος ο ταξινομητής που παρήγαγε τις προβλέψεις. Για κάθε μια από τις 8 κατηγορίες του test set μας, ο ταξινομητής θα κάνει κάποιες σωστές προβλέψεις και κάποιες λάθος. Πιο συγκεκριμένα, για μια κατηγορία $c$:\n",
    "- τα παραδείγματα που ανήκουν στην κατηγορία $c$ και ο ταξινομητής προέβλεψε ότι πράγματι ανήκουν στην κατηγορία $c$ ονομάζονται True Positives (TP).\n",
    "- τα παραδείγματα που ανήκουν στην κατηγορία $c$ και ο ταξινομητής προέβλεψε λανθασμένως ότι ανήκουν σε κάποια άλλη κατηγορία ονομάζονται False Positives (FP).\n",
    "- τα παραδείγματα που ανήκουν σε κάποια κατηγορία διαφορετική της $c$ και ο ταξινομητής προέβλεψε ότι πράγματι ανήκουν σε κάποια κατηγορία διαφορετική της $c$ ονομάζονται True Negatives (TN).\n",
    "- τα παραδείγματα που ανήκουν σε κατηγορία διαφορετική της $c$ και ο ταξινομητής προέβλεψε ότι ανήκουν στην κατηγορία $c$ ονομάζονται False Negatives (FN).\n",
    "\n",
    "Δεδομένων των παραπάνω ορισμών, μπορούμε συνήθως να υπολογίσουμε μερικές μετρικές απόδοσης του ταξινομητή μας, λαμβάνοντας υπόψη τον συνολικό (για όλες τις κατηγορίες) αριθμό True Positives (TP), False Positives (FP) και False Negatives (FN).\n",
    "Στο πρόβλημα που σας έχει ανατεθεί υπάρχουν συνολικά 8 κατηγορίες $c_1, c_2, \\ldots, c_8$ οπότε μπορούμε να υπολογίσουμε:\n",
    "Πρώτα, το `Recall` το οποίο ορίζεται ως:\n",
    "$$ Recall = \\frac{\\sum_{i=1}^8 TP_{c_i}}{\\sum_{i=1}^8TP_{c_i}+\\sum_{i=1}^8FN_{c_i}} $$\n",
    "και μετράει συνολικά το ποσοστό των παραδειγμάτων που προβλέφτηκαν ότι ανήκουν στην κατηγορία $c_i$ σε σχέση με αυτά που ανήκουν πράγματι στην κατηγορία $c_i$. Έπειτα, το `Precision` το οποίο μας λέει πόσα από τα παραδείγματα που προβλέφτηκαν ότι ανήκουν στην κατηγορία $c_i$, ανήκουν πράγματι σε αυτή την κατηγορία, και ορίζεται ως εξης:\n",
    "$$ Precision = \\frac{\\sum_{i=1}^8 TP_{c_i}}{\\sum_{i=1}^8TP_{c_i}+\\sum_{i=1}^8FP_{c_i}} $$\n",
    "\n",
    "Το `micro F1-score` ειναι ο αρμονικός μέσος του Precision και του Recall, και ορίζεται ως εξής:\n",
    "$$ micro\\text{ } F1-score =  \\frac{2*Recall*Precision}{Recall + Precision} $$\n",
    "Πρόκειται για μια ευρέως διαδεδομένη μετρική απόδοσης η οποία είναι και αξιόπιστη δεδομένου ότι λαμβάνει υπόψη τόσο τα False Positives όσο και τα False Negatives.\n",
    "\n",
    "Αφότου υποβάλετε μια λύση στην πλατφόρμα (όπως περιγράφεται παρακάτω), το micro F1-score της λύσης σας υπολογίζεται αυτόματα και εμφανίζεται στην οθόνη.\n",
    "\n",
    "### Υποβολή Λύσης\n",
    "\n",
    "Αφότου έχετε σχεδιάσει και τρέξει τον αλγοριθμό σας, και έχετε προβλέψει την κατηγορία επιβατών για κάθε πτήση του test set, πρέπει να υποβάλετε την λύση σας στην πλατφόρμα Kaggle ώστε να αξιολογηθεί. Συγκεκριμένα, στην κεντρική οθόνη υπάρχει η επιλογή `Submit Predictions` η οποία σας δίνει τη δυνατότητα να ανεβάσετε τις προβλέψεις σας. Οι προβλέψεις σας θα πρέπει να συμπεριληφθούν σε ένα αρχείο όπου κάθε γραμμή περιέχει την πρόβλεψή σας για την πτήση η οποία βρίσκεται στην ίδια γραμμή του test set. Για παράδειγμα, παρακάτω σας δίνονται οι τρείς πρώτες πτήσεις του test set:\n",
    "``` html\n",
    "2012-10-21,DFW,Dallas-Fort Worth,32.896828,-97.037997,SFO,San Francisco,37.618972,-122.374889,14.6,11.5758369028\n",
    "2012-09-13,LAX,Los Angeles,33.942536,-118.408075,ATL,Atlanta,33.636719,-84.428067,14.7307692308,13.3643037748\n",
    "2012-09-04,ORD,Chicago,41.978603,-87.904842,IAH,Houston,29.984433,-95.341442,8.47058823529,5.88555060146\n",
    "```\n",
    "Η πρώτη γραμμή του αρχείου που θα υποβάλετε θα πρέπει να περιέχει την πρόβλεψή σας για την κατηγορία αριθμού επιβατών της πρώτης πτήσης, η δεύτερη γραμμή θα πρέπει να περιέχει την πρόβλεψή σας για την δεύτερη πτήση και αντίστοιχα η τρίτη γραμμή θα πρέπει να περιέχει την πρόβλεψή σας για την τρίτη πτήση.\n",
    "\n",
    "**Προσοχή**: Στο αρχείο που θα υποβάλετε, κάθε γραμμή θα πρέπει να περιέχει 2 αριθμούς, έναν για το `Id` της πτήσης του test set και έναν για το `Label` που υποδηλώνει την κατηγορία επιβατών (αριθμοί 0-7). Επιπλέον, θα πρέπει να υπάρχουν συνολικά **2229** γραμμές όσες και οι πτήσεις για τις οποίες πρέπει να κάνετε πρόβλεψη. Τέλος, η κωδικοποίηση του αρχείου θα πρέπει να είναι **utf-8**. Φυσικά θα υπάρχει και μία ακόμη γραμμή στην αρχή που περιέχει τό όνομα των πεδίων `Id` και `Label`.\n",
    "\n",
    "### Αρχικός Κώδικας Python\n",
    "\n",
    "Σας δίνεται ένας αρχικός Python κώδικας ο οποίος χρησιμοποιεί ως μόνη πληροφορία το αεροδρόμιο από το οποίο αναχώρησε η πτήση και το αεροδρόμιο στο οποίο προσγειώθηκε για να προβλέψει την κατηγορία αριθμού επιβατών. Συγκεκριμένα, ο παρακάτω κώδικας αποθηκεύει στη μεταβλητή `y_train` τη στήλη `PAX` του training set, δηλαδή την στήλη την οποία θέλουμε να μάθουμε να προβλέπουμε. Στη συνέχεια, διαγράφει όλες τις στήλες του training set εκτός από τις `Departure` και `Arrival` οι οποίες αντιστοιχούν στους κωδικούς αεροδρομίων αναχώρησης και άφιξης. Επίσης για να είναι πιό εύκολος ο έλεγχος της λύσης σας (τοπικά), μπορείτε αν θέλετε να παράγετε ένα νέο training και test set απο το αρχικό training set, χρησιμοποιώντας την  `train_test_split` του `scikit-learn` (σχολιασμένη γραμμή παρακάτω)."
   ]
  },
  {
   "cell_type": "code",
   "execution_count": 5,
   "metadata": {},
   "outputs": [
    {
     "data": {
      "text/html": [
       "<div>\n",
       "<style scoped>\n",
       "    .dataframe tbody tr th:only-of-type {\n",
       "        vertical-align: middle;\n",
       "    }\n",
       "\n",
       "    .dataframe tbody tr th {\n",
       "        vertical-align: top;\n",
       "    }\n",
       "\n",
       "    .dataframe thead th {\n",
       "        text-align: right;\n",
       "    }\n",
       "</style>\n",
       "<table border=\"1\" class=\"dataframe\">\n",
       "  <thead>\n",
       "    <tr style=\"text-align: right;\">\n",
       "      <th></th>\n",
       "      <th>Departure</th>\n",
       "      <th>Arrival</th>\n",
       "    </tr>\n",
       "  </thead>\n",
       "  <tbody>\n",
       "    <tr>\n",
       "      <th>0</th>\n",
       "      <td>ORD</td>\n",
       "      <td>EWR</td>\n",
       "    </tr>\n",
       "    <tr>\n",
       "      <th>1</th>\n",
       "      <td>ATL</td>\n",
       "      <td>LGA</td>\n",
       "    </tr>\n",
       "    <tr>\n",
       "      <th>2</th>\n",
       "      <td>ORD</td>\n",
       "      <td>BOS</td>\n",
       "    </tr>\n",
       "    <tr>\n",
       "      <th>3</th>\n",
       "      <td>ORD</td>\n",
       "      <td>SFO</td>\n",
       "    </tr>\n",
       "    <tr>\n",
       "      <th>4</th>\n",
       "      <td>SFO</td>\n",
       "      <td>JFK</td>\n",
       "    </tr>\n",
       "  </tbody>\n",
       "</table>\n",
       "</div>"
      ],
      "text/plain": [
       "  Departure Arrival\n",
       "0       ORD     EWR\n",
       "1       ATL     LGA\n",
       "2       ORD     BOS\n",
       "3       ORD     SFO\n",
       "4       SFO     JFK"
      ]
     },
     "execution_count": 5,
     "metadata": {},
     "output_type": "execute_result"
    }
   ],
   "source": [
    "y_train = df_train[['PAX']]\n",
    "\n",
    "from sklearn.model_selection import train_test_split\n",
    "#df_train, df_test, y_train, y_test = train_test_split(df_train, y_train, test_size=0.2, random_state=42)\n",
    "\n",
    "df_train.drop(df_train.columns[[0,2,3,4,6,7,8,9,10,11]], axis=1, inplace=True)\n",
    "\n",
    "df_train.head()"
   ]
  },
  {
   "cell_type": "markdown",
   "metadata": {},
   "source": [
    "Για να μπορεί να δουλέψει ένα αλγόριθμος ταξινόμησης είναι απαραίτητο το training και το test set να έχουν ακριβώς τον ίδιο αριθμό στηλών (ίδιες μεταβλητές). Συνεπώς, πρέπει και στο test set να διαγράψουμε όλες τις στήλες εκτός από τις Departure και Arrival. Αυτό γίνεται με τον παρακάτω κώδικα."
   ]
  },
  {
   "cell_type": "code",
   "execution_count": 6,
   "metadata": {},
   "outputs": [
    {
     "data": {
      "text/html": [
       "<div>\n",
       "<style scoped>\n",
       "    .dataframe tbody tr th:only-of-type {\n",
       "        vertical-align: middle;\n",
       "    }\n",
       "\n",
       "    .dataframe tbody tr th {\n",
       "        vertical-align: top;\n",
       "    }\n",
       "\n",
       "    .dataframe thead th {\n",
       "        text-align: right;\n",
       "    }\n",
       "</style>\n",
       "<table border=\"1\" class=\"dataframe\">\n",
       "  <thead>\n",
       "    <tr style=\"text-align: right;\">\n",
       "      <th></th>\n",
       "      <th>Departure</th>\n",
       "      <th>Arrival</th>\n",
       "    </tr>\n",
       "  </thead>\n",
       "  <tbody>\n",
       "    <tr>\n",
       "      <th>0</th>\n",
       "      <td>DFW</td>\n",
       "      <td>SFO</td>\n",
       "    </tr>\n",
       "    <tr>\n",
       "      <th>1</th>\n",
       "      <td>LAX</td>\n",
       "      <td>ATL</td>\n",
       "    </tr>\n",
       "    <tr>\n",
       "      <th>2</th>\n",
       "      <td>ORD</td>\n",
       "      <td>IAH</td>\n",
       "    </tr>\n",
       "    <tr>\n",
       "      <th>3</th>\n",
       "      <td>DEN</td>\n",
       "      <td>PHX</td>\n",
       "    </tr>\n",
       "    <tr>\n",
       "      <th>4</th>\n",
       "      <td>ORD</td>\n",
       "      <td>SEA</td>\n",
       "    </tr>\n",
       "  </tbody>\n",
       "</table>\n",
       "</div>"
      ],
      "text/plain": [
       "  Departure Arrival\n",
       "0       DFW     SFO\n",
       "1       LAX     ATL\n",
       "2       ORD     IAH\n",
       "3       DEN     PHX\n",
       "4       ORD     SEA"
      ]
     },
     "execution_count": 6,
     "metadata": {},
     "output_type": "execute_result"
    }
   ],
   "source": [
    "df_test.drop(df_test.columns[[0,2,3,4,6,7,8,9,10]], axis=1, inplace=True)\n",
    "\n",
    "df_test.head()"
   ]
  },
  {
   "cell_type": "markdown",
   "metadata": {},
   "source": [
    "Οι στήλες των training και test set περιέχουν κατηγορικές μεταβλητές των οποίων οι τιμές είναι αλφαριθμητικά. Οι αλγόριθμοι ταξινόμησης ωστόσο δουλεύουν μόνο με αριθμητικές τιμές. Χρησιμοποιούμε το αντικείμενο `LabelEncoder` του `scikit-learn` για να μετατρέψουμε τα αλφαριθμητικά σε αριθμητικές τιμές."
   ]
  },
  {
   "cell_type": "code",
   "execution_count": 7,
   "metadata": {},
   "outputs": [],
   "source": [
    "from sklearn.preprocessing import LabelEncoder\n",
    "\n",
    "le = LabelEncoder()\n",
    "le.fit(df_train['Departure'])\n",
    "df_train['Departure'] = le.transform(df_train['Departure'])\n",
    "df_train['Arrival'] = le.transform(df_train['Arrival'])\n",
    "df_test['Departure'] = le.transform(df_test['Departure'])\n",
    "df_test['Arrival'] = le.transform(df_test['Arrival'])"
   ]
  },
  {
   "cell_type": "markdown",
   "metadata": {},
   "source": [
    "Έπειτα, εκπαιδεύουμε έναν ταξινομητή logistic regression για να προβλέψουμε τις κατηγορίες αριθμού επιβατών των δεδομένων ελέγχου. Επιπλέον, αποθηκεύουμε τις προβλέψεις μας στο αρχείο `y_pred.txt` στο δίσκο."
   ]
  },
  {
   "cell_type": "code",
   "execution_count": 8,
   "metadata": {},
   "outputs": [
    {
     "name": "stderr",
     "output_type": "stream",
     "text": [
      "c:\\program files\\python36\\lib\\site-packages\\sklearn\\linear_model\\logistic.py:433: FutureWarning: Default solver will be changed to 'lbfgs' in 0.22. Specify a solver to silence this warning.\n",
      "  FutureWarning)\n",
      "c:\\program files\\python36\\lib\\site-packages\\sklearn\\linear_model\\logistic.py:460: FutureWarning: Default multi_class will be changed to 'auto' in 0.22. Specify the multi_class option to silence this warning.\n",
      "  \"this warning.\", FutureWarning)\n"
     ]
    },
    {
     "data": {
      "text/plain": [
       "(8899, 2)"
      ]
     },
     "execution_count": 8,
     "metadata": {},
     "output_type": "execute_result"
    }
   ],
   "source": [
    "from sklearn.linear_model import LogisticRegression\n",
    "import numpy as np\n",
    "\n",
    "X_train = df_train\n",
    "X_test = df_test\n",
    "y_train = np.ravel(y_train)\n",
    "\n",
    "clf = LogisticRegression()\n",
    "clf.fit(X_train, y_train)\n",
    "y_pred = clf.predict(X_test)\n",
    "\n",
    "X_train.shape"
   ]
  },
  {
   "cell_type": "code",
   "execution_count": 9,
   "metadata": {},
   "outputs": [],
   "source": [
    "import csv\n",
    "with open('y_pred.csv', 'w', newline='') as csvfile:\n",
    "    writer = csv.writer(csvfile, delimiter=',')\n",
    "    writer.writerow(['Id', 'Label'])\n",
    "    for i in range(y_pred.shape[0]):\n",
    "        writer.writerow([i, y_pred[i]])"
   ]
  },
  {
   "cell_type": "code",
   "execution_count": 10,
   "metadata": {},
   "outputs": [
    {
     "data": {
      "text/plain": [
       "0.23598026020637056"
      ]
     },
     "execution_count": 10,
     "metadata": {},
     "output_type": "execute_result"
    }
   ],
   "source": [
    "from sklearn.metrics import f1_score\n",
    "y_test = np.loadtxt('test_labels.csv', delimiter=\",\", skiprows=1, usecols=[1])\n",
    "f1_score(y_test, y_pred, average='micro')"
   ]
  },
  {
   "cell_type": "markdown",
   "metadata": {},
   "source": [
    "Υποβάλλουμε το αρχείο `y_pred.csv` στην πλατφόρμα και μας δίνει micro F1-score ίσο με 0.23.\n",
    "\n",
    "Ένας εναλλακτικός τρόπος αναπαράστασης κατηγορικών μεταβλητών είναι το λεγόμενο one-hot encoding όπου υπάρχει διαθέσιμη μια μεταβλητή για κάθε πιθανή τιμή του χαρακτηριστικού και ανάλογα με την τρέχουσα τιμή του, μια από αυτές της μεταβλητές είναι 1, ενώ όλες οι άλλες παραμένουν 0. Για παράδειγμα, αν είχαμε κάποια μεταβλητή Weekday η οποία περιέγραφε τη μέρα που έγινε μια πτήση, θα είχαμε 7 μεταβλητές (π.χ. 1000000 για Monday, 0100000 για Tuesday κτλ.). Σημειώστε ότι με την one-hot encoding αναπαράσταση ο αριθμός των χαρακτηριστικών που προκύπτει είναι ίσος με τον αριθμό των διαφορετικών τιμών που παίρνει η μεταβλητή. Παρακάτω εφαρμόζουμε one-hot encoding στις μεταβλητές `Departure` και `Arrival`."
   ]
  },
  {
   "cell_type": "code",
   "execution_count": 11,
   "metadata": {},
   "outputs": [
    {
     "name": "stderr",
     "output_type": "stream",
     "text": [
      "c:\\program files\\python36\\lib\\site-packages\\sklearn\\preprocessing\\_encoders.py:368: FutureWarning: The handling of integer data will change in version 0.22. Currently, the categories are determined based on the range [0, max(values)], while in the future they will be determined based on the unique values.\n",
      "If you want the future behaviour and silence this warning, you can specify \"categories='auto'\".\n",
      "In case you used a LabelEncoder before this OneHotEncoder to convert the categories to integers, then you can now use the OneHotEncoder directly.\n",
      "  warnings.warn(msg, FutureWarning)\n"
     ]
    },
    {
     "data": {
      "text/plain": [
       "(8899, 40)"
      ]
     },
     "execution_count": 11,
     "metadata": {},
     "output_type": "execute_result"
    }
   ],
   "source": [
    "from sklearn.preprocessing import OneHotEncoder\n",
    "\n",
    "enc = OneHotEncoder(sparse=False)\n",
    "enc.fit(df_train)  \n",
    "X_train = enc.transform(df_train)\n",
    "X_test = enc.transform(df_test)\n",
    "X_train.shape"
   ]
  },
  {
   "cell_type": "markdown",
   "metadata": {},
   "source": [
    "Βλέπουμε ότι ο αριθμός των στηλών αυξήθηκε από 2 σε 40. Αυτό συνέβη γιατί υπάρχουν 20 διαφορετικά αεροδρόμια και συνεπώς χρειαζόμαστε 20 μεταβλητές για να αναπαραστήσουμε κάθε μια από τις μεταβλητές `Departure` και `Arrival` χρησιμοποιώντας one-hot encoding.\n",
    "\n",
    "Έπειτα, εκπαιδεύουμε ξανά έναν ταξινομητή logistic regression για να προβλέψουμε τις κατηγορίες αριθμού επιβατών των δεδομένων ελέγχου. Επιπλέον, αποθηκεύουμε τις προβλέψεις μας στο αρχείο `y_pred.csv` στο δίσκο."
   ]
  },
  {
   "cell_type": "code",
   "execution_count": 12,
   "metadata": {},
   "outputs": [
    {
     "name": "stderr",
     "output_type": "stream",
     "text": [
      "c:\\program files\\python36\\lib\\site-packages\\sklearn\\linear_model\\logistic.py:433: FutureWarning: Default solver will be changed to 'lbfgs' in 0.22. Specify a solver to silence this warning.\n",
      "  FutureWarning)\n",
      "c:\\program files\\python36\\lib\\site-packages\\sklearn\\linear_model\\logistic.py:460: FutureWarning: Default multi_class will be changed to 'auto' in 0.22. Specify the multi_class option to silence this warning.\n",
      "  \"this warning.\", FutureWarning)\n"
     ]
    }
   ],
   "source": [
    "clf = LogisticRegression()\n",
    "clf.fit(X_train, y_train)\n",
    "y_pred = clf.predict(X_test)"
   ]
  },
  {
   "cell_type": "code",
   "execution_count": 13,
   "metadata": {},
   "outputs": [],
   "source": [
    "with open('y_pred.csv', 'w', newline='') as csvfile:\n",
    "    writer = csv.writer(csvfile, delimiter=',')\n",
    "    writer.writerow(['Id', 'Label'])\n",
    "    for i in range(y_pred.shape[0]):\n",
    "        writer.writerow([i, y_pred[i]])"
   ]
  },
  {
   "cell_type": "code",
   "execution_count": 14,
   "metadata": {},
   "outputs": [
    {
     "data": {
      "text/plain": [
       "0.3310901749663526"
      ]
     },
     "execution_count": 14,
     "metadata": {},
     "output_type": "execute_result"
    }
   ],
   "source": [
    "f1_score(y_test, y_pred, average='micro')"
   ]
  },
  {
   "cell_type": "markdown",
   "metadata": {},
   "source": [
    "Υποβάλλουμε το αρχείο `y_pred.csv` στην πλατφόρμα και μας δίνει macro F1-score ίσο με 0.33. Στα πλαίσια της παρούσας εργασίας καλείστε να τροποποιήσετε τον παραπάνω κώδικα ώστε να προβλέψετε τις κατηγορίες αριθμού επιβατών των πτήσεων του test set. Μπορείτε να εφαρμόσετε κάποια μέθοδο επιλογής χαρακτηριστικών στα δεδομένα ώστε να κρατήσετε\n",
    "μόνο ένα υποσύνολο από τα χαρακτηριστικά. Μπορείτε επίσης να δημιουργήσετε νέα χαρακτηριστικά τα οποία\n",
    "ίσως βοηθήσουν στην κατηγοριοποίηση. Μπορείτε επιπλέον να πειραματιστείτε με κάποια μέθοδο μείωσης\n",
    "διάστασης και να διερευνήσετε αν η εφαρμογή της βελτιώνει το αποτέλεσμα της κατηγοριοποίησης. Επίσης,\n",
    "μπορείτε να χρησιμοποιήσετε θορυβώδη ή ανούσια χαρακτηριστικά για να παράγετε νέα χαρακτηριστικά που\n",
    "παρέχουν μεγαλύτερα ποσοστά πληροφορίας. Μπορείτε να χρησιμοποιήσετε διαφορετικούς ταξινομητές ή να συνδυάσετε τα αποτελέσματα περισσότερων από έναν ταξινομητές. \n",
    "\n",
    "### Παράδοση Εργασίας\n",
    "\n",
    "Η εργασία είναι είτε ατομική ή μπορεί να γίνει σε ομάδες το πολύ 3 ατόμων. Η τελική αξιολόγηση θα βασίζεται τόσο στο micro F1-score που θα επιτύχετε, όσο και στη συνολική προσέγγισή σας στο πρόβλημα. Στα πλαίσια της εργασίας, θα πρέπει να υποβληθούν τα εξής:\n",
    "<ul>\n",
    "    <li>Μια αναφορά 2 σελίδων, στην οποία θα πρέπει να περιγράψετε την προσέγγιση και τις μεθόδους που χρησιμοποιήσατε. Δεδομένου ότι πρόκειται για ένα πραγματικό πρόβλημα ταξινόμησης, μας ενδιαφέρει να γνωρίζουμε πώς αντιμετωπίσατε κάθε στάδιο του προβλήματος, π.χ. τι είδους αναπαράσταση δεδομένων χρησιμοποιήσατε, τι χαρακτηριστικά χρησιμοποιήσατε, εάν εφαρμόσατε τεχνικές μείωσης διάστασης, ποιούς αλγορίθμους ταξινόμησης δοκιμάσατε και γιατί, την απόδοση των μεθόδων σας (macro F1-score και χρόνο εκπαίδευσης), τυχόν προσεγγίσεις που τελικά δεν λειτούργησαν, αλλά\n",
    "είναι ενδιαφέρον να παρουσιάσετε, και γενικά, ότι νομίζετε ότι είναι ενδιαφέρον να αναφερθεί.</li>\n",
    "    <li>Ενα φάκελο με τον κώδικα της εφαρμογής σας.</li>\n",
    "    <li>Εναλλακτικά μπορείτε να συνδυάσετε τα δυο παραπάνω σε ένα αρχείο Ipython Notebook.</li>\n",
    "    <li>Δημιουργήστε ένα αρχείο .zip που περιέχει τον κώδικα και την αναφορά και υποβάλετέ τον στην πλατφόρμα e-class.</li>\n",
    "    <li>**Λήξη προθεσμίας**: 6 Ιανουαρίου 2019.</li>\n",
    "</ul>"
   ]
  }
 ],
 "metadata": {
  "anaconda-cloud": {},
  "kernelspec": {
   "display_name": "Python 3",
   "language": "python",
   "name": "python3"
  },
  "language_info": {
   "codemirror_mode": {
    "name": "ipython",
    "version": 3
   },
   "file_extension": ".py",
   "mimetype": "text/x-python",
   "name": "python",
   "nbconvert_exporter": "python",
   "pygments_lexer": "ipython3",
   "version": "3.6.3"
  }
 },
 "nbformat": 4,
 "nbformat_minor": 1
}
